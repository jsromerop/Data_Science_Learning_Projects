{
    "cells": [
        {
            "cell_type": "markdown",
            "metadata": {
                "colab_type": "text",
                "id": "KCoGvh8BKdk6"
            },
            "source": "# <center>Pandas Python Library for Beginners in Data Science\n#### <center>Instructor: Vinita Silaparasetty"
        },
        {
            "cell_type": "markdown",
            "metadata": {
                "colab_type": "text",
                "id": "ld-AxEPgKdk8"
            },
            "source": "### Import Libraries"
        },
        {
            "cell_type": "code",
            "execution_count": 1,
            "metadata": {
                "colab": {},
                "colab_type": "code",
                "id": "ocAmpkPRKdk9"
            },
            "outputs": [],
            "source": "import numpy as np\nimport pandas as pd             "
        },
        {
            "cell_type": "markdown",
            "metadata": {
                "colab_type": "text",
                "id": "2Ofz0_DyKdlD"
            },
            "source": "# <center> Creating a Series"
        },
        {
            "cell_type": "markdown",
            "metadata": {
                "colab_type": "text",
                "id": "SbYyYRUSKdlE"
            },
            "source": "<img src=\"https://github.com/VinitaSilaparasetty/Coursera-Pandas-for-Beginners/blob/master/Media/series.png?raw=true\" width=\"600\" height=\"600\">\n"
        },
        {
            "cell_type": "markdown",
            "metadata": {
                "colab_type": "text",
                "id": "3P5hT6izKdlE"
            },
            "source": "### <center> Method 1: Using an Array"
        },
        {
            "cell_type": "code",
            "execution_count": 3,
            "metadata": {
                "colab": {},
                "colab_type": "code",
                "id": "tsb5Ea90KdlF"
            },
            "outputs": [
                {
                    "data": {
                        "text/plain": "0                  1\n1                NaN\n2    Pandas Library \ndtype: object"
                    },
                    "execution_count": 3,
                    "metadata": {},
                    "output_type": "execute_result"
                }
            ],
            "source": "s =([1, np.nan, 'Pandas Library '])\ns1 = pd.Series(s)\ns1"
        },
        {
            "cell_type": "markdown",
            "metadata": {
                "colab_type": "text",
                "id": "6EgyYUF1KdlI"
            },
            "source": "## <center>\ud83c\udfc6 Challenge"
        },
        {
            "cell_type": "markdown",
            "metadata": {
                "colab_type": "text",
                "id": "oQknrXEeKdlI"
            },
            "source": "Create a Pandas Series, named s2, containing the following:\n\n* Integer = 2\n\n* Nan value\n\n* Character = b"
        },
        {
            "cell_type": "code",
            "execution_count": 9,
            "metadata": {
                "colab": {},
                "colab_type": "code",
                "id": "4FA6SXTiKdlJ"
            },
            "outputs": [
                {
                    "data": {
                        "text/plain": "0      2\n1    nan\n2      b\ndtype: object"
                    },
                    "execution_count": 9,
                    "metadata": {},
                    "output_type": "execute_result"
                }
            ],
            "source": "s2 = np.array([2, np.nan, 'b'])\ns2 = pd.Series(s2)\ns2"
        },
        {
            "cell_type": "markdown",
            "metadata": {
                "colab_type": "text",
                "id": "uD33CcL2KdlM"
            },
            "source": "### <center> Method 2: Using a List"
        },
        {
            "cell_type": "code",
            "execution_count": 10,
            "metadata": {
                "colab": {},
                "colab_type": "code",
                "id": "WbmqTnqpKdlM"
            },
            "outputs": [
                {
                    "data": {
                        "text/plain": "0    animal\n1         2\n2    animal\ndtype: object"
                    },
                    "execution_count": 10,
                    "metadata": {},
                    "output_type": "execute_result"
                }
            ],
            "source": "list1 = ['animal', '2', 'animal']\ns3 = pd.Series(list1)\ns3"
        },
        {
            "cell_type": "markdown",
            "metadata": {
                "colab_type": "text",
                "id": "7gXdU6rWKdlS"
            },
            "source": "## <center>\ud83c\udfc6 Challenge"
        },
        {
            "cell_type": "markdown",
            "metadata": {
                "colab_type": "text",
                "id": "GdViOvQ2KdlS"
            },
            "source": "Create a Pandas Series, named s4.\nUse a list, named list2, containing the following:\n\n* Integer = 3\n\n* Character = c\n\n* String = Numpy \n\nNote:'N' Must be capital"
        },
        {
            "cell_type": "code",
            "execution_count": 11,
            "metadata": {
                "colab": {},
                "colab_type": "code",
                "id": "1Wj8jpxWKdlT"
            },
            "outputs": [
                {
                    "data": {
                        "text/plain": "0        3\n1        c\n2    Numpy\ndtype: object"
                    },
                    "execution_count": 11,
                    "metadata": {},
                    "output_type": "execute_result"
                }
            ],
            "source": "list2 = ['3', 'c', 'Numpy']\ns4 = pd.Series(list2)\ns4"
        },
        {
            "cell_type": "markdown",
            "metadata": {
                "colab_type": "text",
                "id": "fcErTl3qKdlW"
            },
            "source": "### <center> Method 3: Using a Dictionary"
        },
        {
            "cell_type": "code",
            "execution_count": 13,
            "metadata": {
                "colab": {},
                "colab_type": "code",
                "id": "ThVGkJpdKdlX"
            },
            "outputs": [
                {
                    "data": {
                        "text/plain": "A         1\n3    Python\ndtype: object"
                    },
                    "execution_count": 13,
                    "metadata": {},
                    "output_type": "execute_result"
                }
            ],
            "source": "s5 = pd.Series(\n    {'A' : 1,\n    '3' : 'Python'})\ns5"
        },
        {
            "cell_type": "markdown",
            "metadata": {
                "colab_type": "text",
                "id": "VJJSuF2UKdla"
            },
            "source": "## <center>\ud83c\udfc6 Challenge"
        },
        {
            "cell_type": "markdown",
            "metadata": {
                "colab_type": "text",
                "id": "qwY80G7xKdlb"
            },
            "source": "Create a Pandas Series, named s6, containing the following:\n\n* 'Integer' = 3\n* 'B' = Boys\n"
        },
        {
            "cell_type": "code",
            "execution_count": 16,
            "metadata": {
                "colab": {},
                "colab_type": "code",
                "id": "6N4D3ni_Kdlb"
            },
            "outputs": [
                {
                    "data": {
                        "text/plain": "Integer       3\nB          Boys\ndtype: object"
                    },
                    "execution_count": 16,
                    "metadata": {},
                    "output_type": "execute_result"
                }
            ],
            "source": "s6 = pd.Series(\n    {'Integer' : 3,\n     'B': 'Boys'})\ns6"
        },
        {
            "cell_type": "markdown",
            "metadata": {
                "colab_type": "text",
                "id": "UvjvQy9nKdle"
            },
            "source": "# <center> Creating Data Frames"
        },
        {
            "cell_type": "markdown",
            "metadata": {
                "colab_type": "text",
                "id": "OirhnVKZKdlf"
            },
            "source": "<img src=\"https://github.com/VinitaSilaparasetty/Coursera-Pandas-for-Beginners/blob/master/Media/dataframe.gif?raw=true\" width=\"600\" height=\"600\">"
        },
        {
            "cell_type": "markdown",
            "metadata": {
                "colab_type": "text",
                "id": "OYecM5C4Kdlh"
            },
            "source": "### <center> Method 1: Passing a Numpy Array"
        },
        {
            "cell_type": "code",
            "execution_count": 17,
            "metadata": {
                "colab": {},
                "colab_type": "code",
                "id": "siDIHrk5Kdlh"
            },
            "outputs": [
                {
                    "data": {
                        "text/html": "<div>\n<style scoped>\n    .dataframe tbody tr th:only-of-type {\n        vertical-align: middle;\n    }\n\n    .dataframe tbody tr th {\n        vertical-align: top;\n    }\n\n    .dataframe thead th {\n        text-align: right;\n    }\n</style>\n<table border=\"1\" class=\"dataframe\">\n  <thead>\n    <tr style=\"text-align: right;\">\n      <th></th>\n      <th>0</th>\n      <th>1</th>\n      <th>2</th>\n      <th>3</th>\n    </tr>\n  </thead>\n  <tbody>\n    <tr>\n      <th>0</th>\n      <td>1.356748</td>\n      <td>1.560549</td>\n      <td>-2.264286</td>\n      <td>-1.071121</td>\n    </tr>\n    <tr>\n      <th>1</th>\n      <td>-0.005858</td>\n      <td>0.210546</td>\n      <td>0.173714</td>\n      <td>-1.223633</td>\n    </tr>\n    <tr>\n      <th>2</th>\n      <td>0.141808</td>\n      <td>0.181524</td>\n      <td>0.768537</td>\n      <td>-0.149039</td>\n    </tr>\n    <tr>\n      <th>3</th>\n      <td>-0.421587</td>\n      <td>0.378398</td>\n      <td>-0.450985</td>\n      <td>-0.218752</td>\n    </tr>\n    <tr>\n      <th>4</th>\n      <td>-0.292066</td>\n      <td>0.687782</td>\n      <td>1.740308</td>\n      <td>-0.160229</td>\n    </tr>\n    <tr>\n      <th>5</th>\n      <td>-0.398942</td>\n      <td>0.515557</td>\n      <td>-0.481510</td>\n      <td>0.815129</td>\n    </tr>\n  </tbody>\n</table>\n</div>",
                        "text/plain": "          0         1         2         3\n0  1.356748  1.560549 -2.264286 -1.071121\n1 -0.005858  0.210546  0.173714 -1.223633\n2  0.141808  0.181524  0.768537 -0.149039\n3 -0.421587  0.378398 -0.450985 -0.218752\n4 -0.292066  0.687782  1.740308 -0.160229\n5 -0.398942  0.515557 -0.481510  0.815129"
                    },
                    "execution_count": 17,
                    "metadata": {},
                    "output_type": "execute_result"
                }
            ],
            "source": "df = pd.DataFrame(np.random.randn(6,4))\ndf"
        },
        {
            "cell_type": "markdown",
            "metadata": {
                "colab_type": "text",
                "id": "IMz9JGVqKdlk"
            },
            "source": "## <center>\ud83c\udfc6 Challenge"
        },
        {
            "cell_type": "markdown",
            "metadata": {
                "colab_type": "text",
                "id": "SpsBwi3eKdll"
            },
            "source": "Create a data frame, named df1, which contains:\n\n* A randomly generated array with the dimensions 3x3.\n"
        },
        {
            "cell_type": "code",
            "execution_count": 18,
            "metadata": {
                "colab": {},
                "colab_type": "code",
                "id": "gla4tyT7Kdlm"
            },
            "outputs": [
                {
                    "data": {
                        "text/html": "<div>\n<style scoped>\n    .dataframe tbody tr th:only-of-type {\n        vertical-align: middle;\n    }\n\n    .dataframe tbody tr th {\n        vertical-align: top;\n    }\n\n    .dataframe thead th {\n        text-align: right;\n    }\n</style>\n<table border=\"1\" class=\"dataframe\">\n  <thead>\n    <tr style=\"text-align: right;\">\n      <th></th>\n      <th>0</th>\n      <th>1</th>\n      <th>2</th>\n    </tr>\n  </thead>\n  <tbody>\n    <tr>\n      <th>0</th>\n      <td>0.833103</td>\n      <td>-1.186890</td>\n      <td>-0.584643</td>\n    </tr>\n    <tr>\n      <th>1</th>\n      <td>-1.136677</td>\n      <td>1.796605</td>\n      <td>-1.135650</td>\n    </tr>\n    <tr>\n      <th>2</th>\n      <td>-0.465978</td>\n      <td>0.414881</td>\n      <td>0.499690</td>\n    </tr>\n  </tbody>\n</table>\n</div>",
                        "text/plain": "          0         1         2\n0  0.833103 -1.186890 -0.584643\n1 -1.136677  1.796605 -1.135650\n2 -0.465978  0.414881  0.499690"
                    },
                    "execution_count": 18,
                    "metadata": {},
                    "output_type": "execute_result"
                }
            ],
            "source": "df1 = pd.DataFrame(np.random.randn(3,3))\ndf1"
        },
        {
            "cell_type": "markdown",
            "metadata": {
                "colab_type": "text",
                "id": "I1KbMG7rKdlq"
            },
            "source": "### <center> Method 2: Passing a Dictionary of Objects"
        },
        {
            "cell_type": "code",
            "execution_count": 19,
            "metadata": {
                "colab": {},
                "colab_type": "code",
                "id": "dye9T8WMKdlq"
            },
            "outputs": [
                {
                    "data": {
                        "text/html": "<div>\n<style scoped>\n    .dataframe tbody tr th:only-of-type {\n        vertical-align: middle;\n    }\n\n    .dataframe tbody tr th {\n        vertical-align: top;\n    }\n\n    .dataframe thead th {\n        text-align: right;\n    }\n</style>\n<table border=\"1\" class=\"dataframe\">\n  <thead>\n    <tr style=\"text-align: right;\">\n      <th></th>\n      <th>A</th>\n      <th>number</th>\n    </tr>\n  </thead>\n  <tbody>\n    <tr>\n      <th>0</th>\n      <td>1</td>\n      <td>6</td>\n    </tr>\n    <tr>\n      <th>1</th>\n      <td>1</td>\n      <td>6</td>\n    </tr>\n    <tr>\n      <th>2</th>\n      <td>1</td>\n      <td>6</td>\n    </tr>\n  </tbody>\n</table>\n</div>",
                        "text/plain": "   A  number\n0  1       6\n1  1       6\n2  1       6"
                    },
                    "execution_count": 19,
                    "metadata": {},
                    "output_type": "execute_result"
                }
            ],
            "source": "df2 = pd.DataFrame({\n    'A':1,\n    'number':np.array([6]*3, dtype='int32'),\n})\ndf2"
        },
        {
            "cell_type": "markdown",
            "metadata": {
                "colab_type": "text",
                "id": "o8Q8XGUZKdlt"
            },
            "source": "## <center>\ud83c\udfc6 Challenge"
        },
        {
            "cell_type": "markdown",
            "metadata": {
                "colab_type": "text",
                "id": "rKldfWrdKdlu"
            },
            "source": "Create a data frame, named df3, which contains:\n\n* 'E' = np.array([4] * 5,dtype='int32')\n\n* 'Day' = 2"
        },
        {
            "cell_type": "code",
            "execution_count": 20,
            "metadata": {
                "colab": {},
                "colab_type": "code",
                "id": "6Itupb7_Kdlu"
            },
            "outputs": [
                {
                    "data": {
                        "text/html": "<div>\n<style scoped>\n    .dataframe tbody tr th:only-of-type {\n        vertical-align: middle;\n    }\n\n    .dataframe tbody tr th {\n        vertical-align: top;\n    }\n\n    .dataframe thead th {\n        text-align: right;\n    }\n</style>\n<table border=\"1\" class=\"dataframe\">\n  <thead>\n    <tr style=\"text-align: right;\">\n      <th></th>\n      <th>E</th>\n      <th>Day</th>\n    </tr>\n  </thead>\n  <tbody>\n    <tr>\n      <th>0</th>\n      <td>4</td>\n      <td>2</td>\n    </tr>\n    <tr>\n      <th>1</th>\n      <td>4</td>\n      <td>2</td>\n    </tr>\n    <tr>\n      <th>2</th>\n      <td>4</td>\n      <td>2</td>\n    </tr>\n    <tr>\n      <th>3</th>\n      <td>4</td>\n      <td>2</td>\n    </tr>\n    <tr>\n      <th>4</th>\n      <td>4</td>\n      <td>2</td>\n    </tr>\n  </tbody>\n</table>\n</div>",
                        "text/plain": "   E  Day\n0  4    2\n1  4    2\n2  4    2\n3  4    2\n4  4    2"
                    },
                    "execution_count": 20,
                    "metadata": {},
                    "output_type": "execute_result"
                }
            ],
            "source": "df3 = pd.DataFrame({\n    'E' : np.array([4]*5, dtype='int32'),\n    'Day': 2\n})\ndf3"
        },
        {
            "cell_type": "markdown",
            "metadata": {
                "colab_type": "text",
                "id": "3R3OkHq4Kdlx"
            },
            "source": "--------"
        },
        {
            "cell_type": "markdown",
            "metadata": {
                "colab_type": "text",
                "id": "M5AaQ2rDKdly"
            },
            "source": "## <center> Importing Files"
        },
        {
            "cell_type": "markdown",
            "metadata": {
                "colab_type": "text",
                "id": "jo9Gd6kqKdlz"
            },
            "source": "### Import .csv files\n\nUse the file path: /home/rhyme/Desktop/Project/\n\n(Note: If you want to use this command for a file on your own system, be sure to use the correct file path.)"
        },
        {
            "cell_type": "code",
            "execution_count": 24,
            "metadata": {
                "colab": {},
                "colab_type": "code",
                "id": "SmwNmKeyKdlz"
            },
            "outputs": [
                {
                    "data": {
                        "text/html": "<div>\n<style scoped>\n    .dataframe tbody tr th:only-of-type {\n        vertical-align: middle;\n    }\n\n    .dataframe tbody tr th {\n        vertical-align: top;\n    }\n\n    .dataframe thead th {\n        text-align: right;\n    }\n</style>\n<table border=\"1\" class=\"dataframe\">\n  <thead>\n    <tr style=\"text-align: right;\">\n      <th></th>\n      <th>A</th>\n      <th>B</th>\n      <th>C</th>\n      <th>D</th>\n    </tr>\n  </thead>\n  <tbody>\n    <tr>\n      <th>0</th>\n      <td>NaN</td>\n      <td>-1.604969</td>\n      <td>-0.106263</td>\n      <td>-1.002924</td>\n    </tr>\n    <tr>\n      <th>1</th>\n      <td>-0.404667</td>\n      <td>0.458565</td>\n      <td>-1.174912</td>\n      <td>NaN</td>\n    </tr>\n    <tr>\n      <th>2</th>\n      <td>0.440231</td>\n      <td>1.713480</td>\n      <td>0.162473</td>\n      <td>-1.632132</td>\n    </tr>\n  </tbody>\n</table>\n</div>",
                        "text/plain": "          A         B         C         D\n0       NaN -1.604969 -0.106263 -1.002924\n1 -0.404667  0.458565 -1.174912       NaN\n2  0.440231  1.713480  0.162473 -1.632132"
                    },
                    "execution_count": 24,
                    "metadata": {},
                    "output_type": "execute_result"
                }
            ],
            "source": "df4=pd.read_csv('/home/rhyme/Desktop/Project/practicedata.csv')\ndf4.head(3)"
        },
        {
            "cell_type": "markdown",
            "metadata": {
                "colab_type": "text",
                "id": "uCGTYpgnKdl2"
            },
            "source": "-----------------"
        },
        {
            "cell_type": "markdown",
            "metadata": {
                "colab_type": "text",
                "id": "YnNKzbKEKdl2"
            },
            "source": "## <center>\ud83c\udfc6 Challenge\n    \nImport the file practicedata.json in the dataframe df5.\n\nUse the file path: /home/rhyme/Desktop/Project/"
        },
        {
            "cell_type": "code",
            "execution_count": 28,
            "metadata": {
                "colab": {},
                "colab_type": "code",
                "id": "oGc5QRJvKdl4"
            },
            "outputs": [
                {
                    "data": {
                        "text/html": "<div>\n<style scoped>\n    .dataframe tbody tr th:only-of-type {\n        vertical-align: middle;\n    }\n\n    .dataframe tbody tr th {\n        vertical-align: top;\n    }\n\n    .dataframe thead th {\n        text-align: right;\n    }\n</style>\n<table border=\"1\" class=\"dataframe\">\n  <thead>\n    <tr style=\"text-align: right;\">\n      <th></th>\n      <th>A</th>\n      <th>B</th>\n      <th>C</th>\n      <th>D</th>\n    </tr>\n  </thead>\n  <tbody>\n    <tr>\n      <th>0</th>\n      <td>NaN</td>\n      <td>-1.604969</td>\n      <td>-0.106263</td>\n      <td>-1.002924</td>\n    </tr>\n    <tr>\n      <th>1</th>\n      <td>-0.404667</td>\n      <td>0.458565</td>\n      <td>-1.174912</td>\n      <td>NaN</td>\n    </tr>\n    <tr>\n      <th>2</th>\n      <td>0.440231</td>\n      <td>1.713480</td>\n      <td>0.162473</td>\n      <td>-1.632132</td>\n    </tr>\n  </tbody>\n</table>\n</div>",
                        "text/plain": "          A         B         C         D\n0       NaN -1.604969 -0.106263 -1.002924\n1 -0.404667  0.458565 -1.174912       NaN\n2  0.440231  1.713480  0.162473 -1.632132"
                    },
                    "execution_count": 28,
                    "metadata": {},
                    "output_type": "execute_result"
                }
            ],
            "source": "df5=pd.read_json('/home/rhyme/Desktop/Project/practicedata.json')\ndf5.head(3)"
        },
        {
            "cell_type": "markdown",
            "metadata": {
                "colab_type": "text",
                "id": "JwEArSFUKdl7"
            },
            "source": "### Importing Files from a url\n\nImport data from this github repo: https://raw.githubusercontent.com/VinitaSilaparasetty/Coursera-Pandas-for-Beginners/master/practicedata.csv\")\n"
        },
        {
            "cell_type": "code",
            "execution_count": 29,
            "metadata": {
                "colab": {},
                "colab_type": "code",
                "id": "rmtoBqDvKdl8"
            },
            "outputs": [
                {
                    "data": {
                        "text/html": "<div>\n<style scoped>\n    .dataframe tbody tr th:only-of-type {\n        vertical-align: middle;\n    }\n\n    .dataframe tbody tr th {\n        vertical-align: top;\n    }\n\n    .dataframe thead th {\n        text-align: right;\n    }\n</style>\n<table border=\"1\" class=\"dataframe\">\n  <thead>\n    <tr style=\"text-align: right;\">\n      <th></th>\n      <th>A</th>\n      <th>B</th>\n      <th>C</th>\n      <th>D</th>\n    </tr>\n  </thead>\n  <tbody>\n    <tr>\n      <th>0</th>\n      <td>NaN</td>\n      <td>-1.604969</td>\n      <td>-0.106263</td>\n      <td>-1.002924</td>\n    </tr>\n    <tr>\n      <th>1</th>\n      <td>-0.404667</td>\n      <td>0.458565</td>\n      <td>-1.174912</td>\n      <td>NaN</td>\n    </tr>\n    <tr>\n      <th>2</th>\n      <td>0.440231</td>\n      <td>1.713480</td>\n      <td>0.162473</td>\n      <td>-1.632132</td>\n    </tr>\n  </tbody>\n</table>\n</div>",
                        "text/plain": "          A         B         C         D\n0       NaN -1.604969 -0.106263 -1.002924\n1 -0.404667  0.458565 -1.174912       NaN\n2  0.440231  1.713480  0.162473 -1.632132"
                    },
                    "execution_count": 29,
                    "metadata": {},
                    "output_type": "execute_result"
                }
            ],
            "source": "df6=pd.read_csv('https://raw.githubusercontent.com/VinitaSilaparasetty/Coursera-Pandas-for-Beginners/master/practicedata.csv')\ndf6.head(3)"
        },
        {
            "cell_type": "markdown",
            "metadata": {
                "colab_type": "text",
                "id": "n27mTE_fKdl_"
            },
            "source": "## <center>\ud83c\udfc6 Challenge\n    \nCreate the data frame df7.\n\nThen import data from this github repo: https://raw.githubusercontent.com/VinitaSilaparasetty/Coursera-Pandas-for-Beginners/master/practicedata.json"
        },
        {
            "cell_type": "code",
            "execution_count": 31,
            "metadata": {
                "colab": {},
                "colab_type": "code",
                "id": "AO_hwwLSKdmA"
            },
            "outputs": [
                {
                    "data": {
                        "text/html": "<div>\n<style scoped>\n    .dataframe tbody tr th:only-of-type {\n        vertical-align: middle;\n    }\n\n    .dataframe tbody tr th {\n        vertical-align: top;\n    }\n\n    .dataframe thead th {\n        text-align: right;\n    }\n</style>\n<table border=\"1\" class=\"dataframe\">\n  <thead>\n    <tr style=\"text-align: right;\">\n      <th></th>\n      <th>A</th>\n      <th>B</th>\n      <th>C</th>\n      <th>D</th>\n    </tr>\n  </thead>\n  <tbody>\n    <tr>\n      <th>0</th>\n      <td>NaN</td>\n      <td>-1.604969</td>\n      <td>-0.106263</td>\n      <td>-1.002924</td>\n    </tr>\n    <tr>\n      <th>1</th>\n      <td>-0.404667</td>\n      <td>0.458565</td>\n      <td>-1.174912</td>\n      <td>NaN</td>\n    </tr>\n    <tr>\n      <th>2</th>\n      <td>0.440231</td>\n      <td>1.713480</td>\n      <td>0.162473</td>\n      <td>-1.632132</td>\n    </tr>\n  </tbody>\n</table>\n</div>",
                        "text/plain": "          A         B         C         D\n0       NaN -1.604969 -0.106263 -1.002924\n1 -0.404667  0.458565 -1.174912       NaN\n2  0.440231  1.713480  0.162473 -1.632132"
                    },
                    "execution_count": 31,
                    "metadata": {},
                    "output_type": "execute_result"
                }
            ],
            "source": "df7=pd.read_json('https://raw.githubusercontent.com/VinitaSilaparasetty/Coursera-Pandas-for-Beginners/master/practicedata.json')\ndf7.head(3)"
        },
        {
            "cell_type": "markdown",
            "metadata": {
                "colab_type": "text",
                "id": "_EThdbK-KdmC"
            },
            "source": "## <center> Export Files"
        },
        {
            "cell_type": "markdown",
            "metadata": {
                "colab_type": "text",
                "id": "z0XsMHH5KdmD"
            },
            "source": "### Export .csv Files"
        },
        {
            "cell_type": "code",
            "execution_count": 32,
            "metadata": {
                "colab": {},
                "colab_type": "code",
                "id": "S8V4mCjZKdmD"
            },
            "outputs": [],
            "source": "df4.to_csv('/home/rhyme/Desktop/Project/practicedata2.csv')"
        },
        {
            "cell_type": "markdown",
            "metadata": {
                "colab_type": "text",
                "id": "dIfmNerUKdmF"
            },
            "source": "## <center>\ud83c\udfc6 Challenge\n\nExport the data from df4 to 'practicedata2.json'\n\nUse the file path:/home/rhyme/Desktop/Project/"
        },
        {
            "cell_type": "code",
            "execution_count": 33,
            "metadata": {
                "colab": {},
                "colab_type": "code",
                "id": "hAKKLJFdKdmG"
            },
            "outputs": [],
            "source": "df4.to_json('/home/rhyme/Desktop/Project/practicedata2.json')"
        },
        {
            "cell_type": "markdown",
            "metadata": {
                "colab_type": "text",
                "id": "FlkZR3qZKdmI"
            },
            "source": "## <center>Data Summary\n    \nWe will be working with data frame df6 for this section. "
        },
        {
            "cell_type": "code",
            "execution_count": 2,
            "metadata": {
                "colab": {},
                "colab_type": "code",
                "id": "lKTohz7wKdmJ"
            },
            "outputs": [
                {
                    "data": {
                        "text/html": "<div>\n<style scoped>\n    .dataframe tbody tr th:only-of-type {\n        vertical-align: middle;\n    }\n\n    .dataframe tbody tr th {\n        vertical-align: top;\n    }\n\n    .dataframe thead th {\n        text-align: right;\n    }\n</style>\n<table border=\"1\" class=\"dataframe\">\n  <thead>\n    <tr style=\"text-align: right;\">\n      <th></th>\n      <th>A</th>\n      <th>B</th>\n      <th>C</th>\n      <th>D</th>\n    </tr>\n  </thead>\n  <tbody>\n    <tr>\n      <th>0</th>\n      <td>NaN</td>\n      <td>-1.604969</td>\n      <td>-0.106263</td>\n      <td>-1.002924</td>\n    </tr>\n    <tr>\n      <th>1</th>\n      <td>-0.404667</td>\n      <td>0.458565</td>\n      <td>-1.174912</td>\n      <td>NaN</td>\n    </tr>\n    <tr>\n      <th>2</th>\n      <td>0.440231</td>\n      <td>1.713480</td>\n      <td>0.162473</td>\n      <td>-1.632132</td>\n    </tr>\n    <tr>\n      <th>3</th>\n      <td>0.081050</td>\n      <td>0.639851</td>\n      <td>0.844037</td>\n      <td>1.463154</td>\n    </tr>\n    <tr>\n      <th>4</th>\n      <td>-1.013616</td>\n      <td>-0.224553</td>\n      <td>1.786915</td>\n      <td>1.041241</td>\n    </tr>\n    <tr>\n      <th>5</th>\n      <td>-1.013616</td>\n      <td>-0.224553</td>\n      <td>1.786915</td>\n      <td>1.041241</td>\n    </tr>\n    <tr>\n      <th>6</th>\n      <td>-0.488965</td>\n      <td>0.946528</td>\n      <td>0.829525</td>\n      <td>-0.529912</td>\n    </tr>\n    <tr>\n      <th>7</th>\n      <td>-0.488965</td>\n      <td>0.946528</td>\n      <td>0.829525</td>\n      <td>-0.529912</td>\n    </tr>\n  </tbody>\n</table>\n</div>",
                        "text/plain": "          A         B         C         D\n0       NaN -1.604969 -0.106263 -1.002924\n1 -0.404667  0.458565 -1.174912       NaN\n2  0.440231  1.713480  0.162473 -1.632132\n3  0.081050  0.639851  0.844037  1.463154\n4 -1.013616 -0.224553  1.786915  1.041241\n5 -1.013616 -0.224553  1.786915  1.041241\n6 -0.488965  0.946528  0.829525 -0.529912\n7 -0.488965  0.946528  0.829525 -0.529912"
                    },
                    "execution_count": 2,
                    "metadata": {},
                    "output_type": "execute_result"
                }
            ],
            "source": "#first run this cell to create the data frame df6\ndf6 = pd.read_csv(\"https://raw.githubusercontent.com/VinitaSilaparasetty/Coursera-Pandas-for-Beginners/master/practicedata.csv\")\ndf6"
        },
        {
            "cell_type": "markdown",
            "metadata": {
                "colab_type": "text",
                "id": "DN6MB5lMKdmL"
            },
            "source": "### Quick Summary of Data"
        },
        {
            "cell_type": "code",
            "execution_count": 35,
            "metadata": {
                "colab": {},
                "colab_type": "code",
                "id": "mugbGs2uKdmM"
            },
            "outputs": [
                {
                    "name": "stdout",
                    "output_type": "stream",
                    "text": "<class 'pandas.core.frame.DataFrame'>\nRangeIndex: 8 entries, 0 to 7\nData columns (total 4 columns):\n #   Column  Non-Null Count  Dtype  \n---  ------  --------------  -----  \n 0   A       7 non-null      float64\n 1   B       8 non-null      float64\n 2   C       8 non-null      float64\n 3   D       7 non-null      float64\ndtypes: float64(4)\nmemory usage: 384.0 bytes\n"
                }
            ],
            "source": "df6.info()"
        },
        {
            "cell_type": "markdown",
            "metadata": {
                "colab_type": "text",
                "id": "3_jL7fU6KdmQ"
            },
            "source": "### Detailed Summary of Data"
        },
        {
            "cell_type": "code",
            "execution_count": 36,
            "metadata": {
                "colab": {},
                "colab_type": "code",
                "id": "GzgcphGkKdmQ"
            },
            "outputs": [
                {
                    "data": {
                        "text/html": "<div>\n<style scoped>\n    .dataframe tbody tr th:only-of-type {\n        vertical-align: middle;\n    }\n\n    .dataframe tbody tr th {\n        vertical-align: top;\n    }\n\n    .dataframe thead th {\n        text-align: right;\n    }\n</style>\n<table border=\"1\" class=\"dataframe\">\n  <thead>\n    <tr style=\"text-align: right;\">\n      <th></th>\n      <th>A</th>\n      <th>B</th>\n      <th>C</th>\n      <th>D</th>\n    </tr>\n  </thead>\n  <tbody>\n    <tr>\n      <th>count</th>\n      <td>7.000000</td>\n      <td>8.000000</td>\n      <td>8.000000</td>\n      <td>7.000000</td>\n    </tr>\n    <tr>\n      <th>mean</th>\n      <td>-0.412650</td>\n      <td>0.331360</td>\n      <td>0.619777</td>\n      <td>-0.021321</td>\n    </tr>\n    <tr>\n      <th>std</th>\n      <td>0.533101</td>\n      <td>1.010369</td>\n      <td>0.987050</td>\n      <td>1.192849</td>\n    </tr>\n    <tr>\n      <th>min</th>\n      <td>-1.013616</td>\n      <td>-1.604969</td>\n      <td>-1.174912</td>\n      <td>-1.632132</td>\n    </tr>\n    <tr>\n      <th>25%</th>\n      <td>-0.751291</td>\n      <td>-0.224553</td>\n      <td>0.095289</td>\n      <td>-0.766418</td>\n    </tr>\n    <tr>\n      <th>50%</th>\n      <td>-0.488965</td>\n      <td>0.549208</td>\n      <td>0.829525</td>\n      <td>-0.529912</td>\n    </tr>\n    <tr>\n      <th>75%</th>\n      <td>-0.161808</td>\n      <td>0.946528</td>\n      <td>1.079757</td>\n      <td>1.041241</td>\n    </tr>\n    <tr>\n      <th>max</th>\n      <td>0.440231</td>\n      <td>1.713480</td>\n      <td>1.786915</td>\n      <td>1.463154</td>\n    </tr>\n  </tbody>\n</table>\n</div>",
                        "text/plain": "              A         B         C         D\ncount  7.000000  8.000000  8.000000  7.000000\nmean  -0.412650  0.331360  0.619777 -0.021321\nstd    0.533101  1.010369  0.987050  1.192849\nmin   -1.013616 -1.604969 -1.174912 -1.632132\n25%   -0.751291 -0.224553  0.095289 -0.766418\n50%   -0.488965  0.549208  0.829525 -0.529912\n75%   -0.161808  0.946528  1.079757  1.041241\nmax    0.440231  1.713480  1.786915  1.463154"
                    },
                    "execution_count": 36,
                    "metadata": {},
                    "output_type": "execute_result"
                }
            ],
            "source": "df6.describe()"
        },
        {
            "cell_type": "markdown",
            "metadata": {
                "colab_type": "text",
                "id": "CF4sggh4KdmU"
            },
            "source": "## <center>View Columns"
        },
        {
            "cell_type": "code",
            "execution_count": 37,
            "metadata": {
                "colab": {},
                "colab_type": "code",
                "id": "pgMfvaJxKdmU"
            },
            "outputs": [
                {
                    "data": {
                        "text/plain": "Index(['A', 'B', 'C', 'D'], dtype='object')"
                    },
                    "execution_count": 37,
                    "metadata": {},
                    "output_type": "execute_result"
                }
            ],
            "source": "df6.columns"
        },
        {
            "cell_type": "markdown",
            "metadata": {
                "colab_type": "text",
                "id": "uAXDELuXKdmX"
            },
            "source": "## <center>\ud83c\udfc6 Challenge\n    \nView the columns in df7."
        },
        {
            "cell_type": "code",
            "execution_count": 5,
            "metadata": {
                "colab": {},
                "colab_type": "code",
                "id": "uE5qFaJtKdmX"
            },
            "outputs": [
                {
                    "data": {
                        "text/html": "<div>\n<style scoped>\n    .dataframe tbody tr th:only-of-type {\n        vertical-align: middle;\n    }\n\n    .dataframe tbody tr th {\n        vertical-align: top;\n    }\n\n    .dataframe thead th {\n        text-align: right;\n    }\n</style>\n<table border=\"1\" class=\"dataframe\">\n  <thead>\n    <tr style=\"text-align: right;\">\n      <th></th>\n      <th>A</th>\n      <th>B</th>\n      <th>C</th>\n      <th>D</th>\n    </tr>\n  </thead>\n  <tbody>\n    <tr>\n      <th>0</th>\n      <td>NaN</td>\n      <td>-1.604969</td>\n      <td>-0.106263</td>\n      <td>-1.002924</td>\n    </tr>\n    <tr>\n      <th>1</th>\n      <td>-0.404667</td>\n      <td>0.458565</td>\n      <td>-1.174912</td>\n      <td>NaN</td>\n    </tr>\n    <tr>\n      <th>2</th>\n      <td>0.440231</td>\n      <td>1.713480</td>\n      <td>0.162473</td>\n      <td>-1.632132</td>\n    </tr>\n    <tr>\n      <th>3</th>\n      <td>0.081050</td>\n      <td>0.639851</td>\n      <td>0.844037</td>\n      <td>1.463154</td>\n    </tr>\n    <tr>\n      <th>4</th>\n      <td>-1.013616</td>\n      <td>-0.224553</td>\n      <td>1.786915</td>\n      <td>1.041241</td>\n    </tr>\n    <tr>\n      <th>5</th>\n      <td>-1.013616</td>\n      <td>-0.224553</td>\n      <td>1.786915</td>\n      <td>1.041241</td>\n    </tr>\n    <tr>\n      <th>6</th>\n      <td>-0.488965</td>\n      <td>0.946528</td>\n      <td>0.829525</td>\n      <td>-0.529912</td>\n    </tr>\n    <tr>\n      <th>7</th>\n      <td>-0.488965</td>\n      <td>0.946528</td>\n      <td>0.829525</td>\n      <td>-0.529912</td>\n    </tr>\n  </tbody>\n</table>\n</div>",
                        "text/plain": "          A         B         C         D\n0       NaN -1.604969 -0.106263 -1.002924\n1 -0.404667  0.458565 -1.174912       NaN\n2  0.440231  1.713480  0.162473 -1.632132\n3  0.081050  0.639851  0.844037  1.463154\n4 -1.013616 -0.224553  1.786915  1.041241\n5 -1.013616 -0.224553  1.786915  1.041241\n6 -0.488965  0.946528  0.829525 -0.529912\n7 -0.488965  0.946528  0.829525 -0.529912"
                    },
                    "execution_count": 5,
                    "metadata": {},
                    "output_type": "execute_result"
                }
            ],
            "source": "#first run this cell to create the data frame df7\ndf7 = pd.read_json(\"https://raw.githubusercontent.com/VinitaSilaparasetty/Coursera-Pandas-for-Beginners/master/practicedata.json\")\ndf7"
        },
        {
            "cell_type": "code",
            "execution_count": 39,
            "metadata": {
                "colab": {},
                "colab_type": "code",
                "id": "f11ZMpvZKdma"
            },
            "outputs": [
                {
                    "data": {
                        "text/plain": "Index(['A', 'B', 'C', 'D'], dtype='object')"
                    },
                    "execution_count": 39,
                    "metadata": {},
                    "output_type": "execute_result"
                }
            ],
            "source": "df7.columns"
        },
        {
            "cell_type": "markdown",
            "metadata": {
                "colab_type": "text",
                "id": "CHrYIhwHKdmg"
            },
            "source": "## <center>View Datatypes"
        },
        {
            "cell_type": "code",
            "execution_count": 40,
            "metadata": {
                "colab": {},
                "colab_type": "code",
                "id": "jAZnSb1pKdmg"
            },
            "outputs": [
                {
                    "data": {
                        "text/plain": "A    float64\nB    float64\nC    float64\nD    float64\ndtype: object"
                    },
                    "execution_count": 40,
                    "metadata": {},
                    "output_type": "execute_result"
                }
            ],
            "source": "df6.dtypes"
        },
        {
            "cell_type": "markdown",
            "metadata": {
                "colab_type": "text",
                "id": "6gAkSbTSKdml"
            },
            "source": "## <center>\ud83c\udfc6 Challenge\n    \nView the datatypes in df7"
        },
        {
            "cell_type": "code",
            "execution_count": 41,
            "metadata": {
                "colab": {},
                "colab_type": "code",
                "id": "LxbDyFpEKdml"
            },
            "outputs": [
                {
                    "data": {
                        "text/plain": "A    float64\nB    float64\nC    float64\nD    float64\ndtype: object"
                    },
                    "execution_count": 41,
                    "metadata": {},
                    "output_type": "execute_result"
                }
            ],
            "source": "df7.dtypes"
        },
        {
            "cell_type": "markdown",
            "metadata": {
                "colab_type": "text",
                "id": "UQwb5eCOKdmn"
            },
            "source": "## <center>Handling Duplicates"
        },
        {
            "cell_type": "markdown",
            "metadata": {
                "colab_type": "text",
                "id": "1tMdWWs1Kdmo"
            },
            "source": "### Detect Duplicate Rows"
        },
        {
            "cell_type": "code",
            "execution_count": 42,
            "metadata": {
                "colab": {},
                "colab_type": "code",
                "id": "j8V83rOeKdmp"
            },
            "outputs": [
                {
                    "data": {
                        "text/plain": "0    False\n1    False\n2    False\n3    False\n4    False\n5     True\n6    False\n7     True\ndtype: bool"
                    },
                    "execution_count": 42,
                    "metadata": {},
                    "output_type": "execute_result"
                }
            ],
            "source": "df6.duplicated()"
        },
        {
            "cell_type": "markdown",
            "metadata": {
                "colab_type": "text",
                "id": "bRPgjo9fKdmr"
            },
            "source": "### Drop Duplicate Rows"
        },
        {
            "cell_type": "code",
            "execution_count": 44,
            "metadata": {
                "colab": {},
                "colab_type": "code",
                "id": "FWPMWXQQKdms"
            },
            "outputs": [
                {
                    "data": {
                        "text/html": "<div>\n<style scoped>\n    .dataframe tbody tr th:only-of-type {\n        vertical-align: middle;\n    }\n\n    .dataframe tbody tr th {\n        vertical-align: top;\n    }\n\n    .dataframe thead th {\n        text-align: right;\n    }\n</style>\n<table border=\"1\" class=\"dataframe\">\n  <thead>\n    <tr style=\"text-align: right;\">\n      <th></th>\n      <th>A</th>\n      <th>B</th>\n      <th>C</th>\n      <th>D</th>\n    </tr>\n  </thead>\n  <tbody>\n    <tr>\n      <th>0</th>\n      <td>NaN</td>\n      <td>-1.604969</td>\n      <td>-0.106263</td>\n      <td>-1.002924</td>\n    </tr>\n    <tr>\n      <th>1</th>\n      <td>-0.404667</td>\n      <td>0.458565</td>\n      <td>-1.174912</td>\n      <td>NaN</td>\n    </tr>\n    <tr>\n      <th>2</th>\n      <td>0.440231</td>\n      <td>1.713480</td>\n      <td>0.162473</td>\n      <td>-1.632132</td>\n    </tr>\n    <tr>\n      <th>3</th>\n      <td>0.081050</td>\n      <td>0.639851</td>\n      <td>0.844037</td>\n      <td>1.463154</td>\n    </tr>\n    <tr>\n      <th>4</th>\n      <td>-1.013616</td>\n      <td>-0.224553</td>\n      <td>1.786915</td>\n      <td>1.041241</td>\n    </tr>\n    <tr>\n      <th>6</th>\n      <td>-0.488965</td>\n      <td>0.946528</td>\n      <td>0.829525</td>\n      <td>-0.529912</td>\n    </tr>\n  </tbody>\n</table>\n</div>",
                        "text/plain": "          A         B         C         D\n0       NaN -1.604969 -0.106263 -1.002924\n1 -0.404667  0.458565 -1.174912       NaN\n2  0.440231  1.713480  0.162473 -1.632132\n3  0.081050  0.639851  0.844037  1.463154\n4 -1.013616 -0.224553  1.786915  1.041241\n6 -0.488965  0.946528  0.829525 -0.529912"
                    },
                    "execution_count": 44,
                    "metadata": {},
                    "output_type": "execute_result"
                }
            ],
            "source": "df6.drop_duplicates()"
        },
        {
            "cell_type": "markdown",
            "metadata": {
                "colab_type": "text",
                "id": "kFpZG62ZKdmv"
            },
            "source": "## <center>\ud83c\udfc6 Challenge\n    \nDetect and drop duplicates in df7"
        },
        {
            "cell_type": "code",
            "execution_count": 47,
            "metadata": {
                "colab": {},
                "colab_type": "code",
                "id": "DhkddpPEKdmw"
            },
            "outputs": [
                {
                    "data": {
                        "text/plain": "0    False\n1    False\n2    False\n3    False\n4    False\n5     True\n6    False\n7     True\ndtype: bool"
                    },
                    "execution_count": 47,
                    "metadata": {},
                    "output_type": "execute_result"
                }
            ],
            "source": "#Detect duplicates\ndf7.duplicated()"
        },
        {
            "cell_type": "code",
            "execution_count": 48,
            "metadata": {
                "colab": {},
                "colab_type": "code",
                "id": "IiCtmeqoKdmy"
            },
            "outputs": [
                {
                    "data": {
                        "text/html": "<div>\n<style scoped>\n    .dataframe tbody tr th:only-of-type {\n        vertical-align: middle;\n    }\n\n    .dataframe tbody tr th {\n        vertical-align: top;\n    }\n\n    .dataframe thead th {\n        text-align: right;\n    }\n</style>\n<table border=\"1\" class=\"dataframe\">\n  <thead>\n    <tr style=\"text-align: right;\">\n      <th></th>\n      <th>A</th>\n      <th>B</th>\n      <th>C</th>\n      <th>D</th>\n    </tr>\n  </thead>\n  <tbody>\n    <tr>\n      <th>0</th>\n      <td>NaN</td>\n      <td>-1.604969</td>\n      <td>-0.106263</td>\n      <td>-1.002924</td>\n    </tr>\n    <tr>\n      <th>1</th>\n      <td>-0.404667</td>\n      <td>0.458565</td>\n      <td>-1.174912</td>\n      <td>NaN</td>\n    </tr>\n    <tr>\n      <th>2</th>\n      <td>0.440231</td>\n      <td>1.713480</td>\n      <td>0.162473</td>\n      <td>-1.632132</td>\n    </tr>\n    <tr>\n      <th>3</th>\n      <td>0.081050</td>\n      <td>0.639851</td>\n      <td>0.844037</td>\n      <td>1.463154</td>\n    </tr>\n    <tr>\n      <th>4</th>\n      <td>-1.013616</td>\n      <td>-0.224553</td>\n      <td>1.786915</td>\n      <td>1.041241</td>\n    </tr>\n    <tr>\n      <th>6</th>\n      <td>-0.488965</td>\n      <td>0.946528</td>\n      <td>0.829525</td>\n      <td>-0.529912</td>\n    </tr>\n  </tbody>\n</table>\n</div>",
                        "text/plain": "          A         B         C         D\n0       NaN -1.604969 -0.106263 -1.002924\n1 -0.404667  0.458565 -1.174912       NaN\n2  0.440231  1.713480  0.162473 -1.632132\n3  0.081050  0.639851  0.844037  1.463154\n4 -1.013616 -0.224553  1.786915  1.041241\n6 -0.488965  0.946528  0.829525 -0.529912"
                    },
                    "execution_count": 48,
                    "metadata": {},
                    "output_type": "execute_result"
                }
            ],
            "source": "#Drop duplicates\ndf7.drop_duplicates()"
        },
        {
            "cell_type": "markdown",
            "metadata": {
                "colab_type": "text",
                "id": "waWxSZcJKdm2"
            },
            "source": "## <center>Handling Missing Values"
        },
        {
            "cell_type": "markdown",
            "metadata": {
                "colab_type": "text",
                "id": "6PDXv6FgKdm3"
            },
            "source": "### Detect Missing Values"
        },
        {
            "cell_type": "code",
            "execution_count": 3,
            "metadata": {
                "colab": {},
                "colab_type": "code",
                "id": "kzSahpp3Kdm3"
            },
            "outputs": [
                {
                    "name": "stdout",
                    "output_type": "stream",
                    "text": "A    1\nB    0\nC    0\nD    1\ndtype: int64\n"
                }
            ],
            "source": "print(df6.isnull().sum())"
        },
        {
            "cell_type": "markdown",
            "metadata": {
                "colab_type": "text",
                "id": "7Mg3mhXoKdm8"
            },
            "source": "### Drop Missing Values"
        },
        {
            "cell_type": "code",
            "execution_count": 4,
            "metadata": {
                "colab": {},
                "colab_type": "code",
                "id": "VbpeE7B_Kdm8"
            },
            "outputs": [
                {
                    "data": {
                        "text/html": "<div>\n<style scoped>\n    .dataframe tbody tr th:only-of-type {\n        vertical-align: middle;\n    }\n\n    .dataframe tbody tr th {\n        vertical-align: top;\n    }\n\n    .dataframe thead th {\n        text-align: right;\n    }\n</style>\n<table border=\"1\" class=\"dataframe\">\n  <thead>\n    <tr style=\"text-align: right;\">\n      <th></th>\n      <th>A</th>\n      <th>B</th>\n      <th>C</th>\n      <th>D</th>\n    </tr>\n  </thead>\n  <tbody>\n    <tr>\n      <th>2</th>\n      <td>0.440231</td>\n      <td>1.713480</td>\n      <td>0.162473</td>\n      <td>-1.632132</td>\n    </tr>\n    <tr>\n      <th>3</th>\n      <td>0.081050</td>\n      <td>0.639851</td>\n      <td>0.844037</td>\n      <td>1.463154</td>\n    </tr>\n    <tr>\n      <th>4</th>\n      <td>-1.013616</td>\n      <td>-0.224553</td>\n      <td>1.786915</td>\n      <td>1.041241</td>\n    </tr>\n    <tr>\n      <th>5</th>\n      <td>-1.013616</td>\n      <td>-0.224553</td>\n      <td>1.786915</td>\n      <td>1.041241</td>\n    </tr>\n    <tr>\n      <th>6</th>\n      <td>-0.488965</td>\n      <td>0.946528</td>\n      <td>0.829525</td>\n      <td>-0.529912</td>\n    </tr>\n    <tr>\n      <th>7</th>\n      <td>-0.488965</td>\n      <td>0.946528</td>\n      <td>0.829525</td>\n      <td>-0.529912</td>\n    </tr>\n  </tbody>\n</table>\n</div>",
                        "text/plain": "          A         B         C         D\n2  0.440231  1.713480  0.162473 -1.632132\n3  0.081050  0.639851  0.844037  1.463154\n4 -1.013616 -0.224553  1.786915  1.041241\n5 -1.013616 -0.224553  1.786915  1.041241\n6 -0.488965  0.946528  0.829525 -0.529912\n7 -0.488965  0.946528  0.829525 -0.529912"
                    },
                    "execution_count": 4,
                    "metadata": {},
                    "output_type": "execute_result"
                }
            ],
            "source": "df6.dropna()"
        },
        {
            "cell_type": "markdown",
            "metadata": {
                "colab_type": "text",
                "id": "Z90VbmacKdm_"
            },
            "source": "## <center>\ud83c\udfc6 Challenge\n    \nDetect and drop missing values in df7"
        },
        {
            "cell_type": "code",
            "execution_count": 6,
            "metadata": {
                "colab": {},
                "colab_type": "code",
                "id": "pf0zbKWaKdm_"
            },
            "outputs": [
                {
                    "name": "stdout",
                    "output_type": "stream",
                    "text": "A    1\nB    0\nC    0\nD    1\ndtype: int64\n"
                }
            ],
            "source": "#Detect missing values\nprint(df7.isnull().sum())"
        },
        {
            "cell_type": "code",
            "execution_count": 7,
            "metadata": {
                "colab": {},
                "colab_type": "code",
                "id": "ThXXX8vZKdnE"
            },
            "outputs": [
                {
                    "data": {
                        "text/html": "<div>\n<style scoped>\n    .dataframe tbody tr th:only-of-type {\n        vertical-align: middle;\n    }\n\n    .dataframe tbody tr th {\n        vertical-align: top;\n    }\n\n    .dataframe thead th {\n        text-align: right;\n    }\n</style>\n<table border=\"1\" class=\"dataframe\">\n  <thead>\n    <tr style=\"text-align: right;\">\n      <th></th>\n      <th>A</th>\n      <th>B</th>\n      <th>C</th>\n      <th>D</th>\n    </tr>\n  </thead>\n  <tbody>\n    <tr>\n      <th>2</th>\n      <td>0.440231</td>\n      <td>1.713480</td>\n      <td>0.162473</td>\n      <td>-1.632132</td>\n    </tr>\n    <tr>\n      <th>3</th>\n      <td>0.081050</td>\n      <td>0.639851</td>\n      <td>0.844037</td>\n      <td>1.463154</td>\n    </tr>\n    <tr>\n      <th>4</th>\n      <td>-1.013616</td>\n      <td>-0.224553</td>\n      <td>1.786915</td>\n      <td>1.041241</td>\n    </tr>\n    <tr>\n      <th>5</th>\n      <td>-1.013616</td>\n      <td>-0.224553</td>\n      <td>1.786915</td>\n      <td>1.041241</td>\n    </tr>\n    <tr>\n      <th>6</th>\n      <td>-0.488965</td>\n      <td>0.946528</td>\n      <td>0.829525</td>\n      <td>-0.529912</td>\n    </tr>\n    <tr>\n      <th>7</th>\n      <td>-0.488965</td>\n      <td>0.946528</td>\n      <td>0.829525</td>\n      <td>-0.529912</td>\n    </tr>\n  </tbody>\n</table>\n</div>",
                        "text/plain": "          A         B         C         D\n2  0.440231  1.713480  0.162473 -1.632132\n3  0.081050  0.639851  0.844037  1.463154\n4 -1.013616 -0.224553  1.786915  1.041241\n5 -1.013616 -0.224553  1.786915  1.041241\n6 -0.488965  0.946528  0.829525 -0.529912\n7 -0.488965  0.946528  0.829525 -0.529912"
                    },
                    "execution_count": 7,
                    "metadata": {},
                    "output_type": "execute_result"
                }
            ],
            "source": "#Drop missing values\ndf7.dropna()"
        },
        {
            "cell_type": "markdown",
            "metadata": {
                "colab_type": "text",
                "id": "2lw-Kat8KdnH"
            },
            "source": "## <center>Numeric Operations"
        },
        {
            "cell_type": "markdown",
            "metadata": {
                "colab_type": "text",
                "id": "APfPwd9oKdnI"
            },
            "source": "We will work with the data frame df8."
        },
        {
            "cell_type": "code",
            "execution_count": 8,
            "metadata": {
                "colab": {},
                "colab_type": "code",
                "id": "KDKVwxrGKdnJ"
            },
            "outputs": [
                {
                    "data": {
                        "text/html": "<div>\n<style scoped>\n    .dataframe tbody tr th:only-of-type {\n        vertical-align: middle;\n    }\n\n    .dataframe tbody tr th {\n        vertical-align: top;\n    }\n\n    .dataframe thead th {\n        text-align: right;\n    }\n</style>\n<table border=\"1\" class=\"dataframe\">\n  <thead>\n    <tr style=\"text-align: right;\">\n      <th></th>\n      <th>0</th>\n      <th>1</th>\n      <th>2</th>\n      <th>3</th>\n    </tr>\n  </thead>\n  <tbody>\n    <tr>\n      <th>0</th>\n      <td>0.038132</td>\n      <td>0.902516</td>\n      <td>-0.987694</td>\n      <td>-1.912738</td>\n    </tr>\n    <tr>\n      <th>1</th>\n      <td>1.483074</td>\n      <td>0.929162</td>\n      <td>-2.026544</td>\n      <td>-0.922430</td>\n    </tr>\n    <tr>\n      <th>2</th>\n      <td>0.366751</td>\n      <td>-0.494292</td>\n      <td>0.183760</td>\n      <td>0.444305</td>\n    </tr>\n    <tr>\n      <th>3</th>\n      <td>-0.777906</td>\n      <td>-0.277398</td>\n      <td>-0.268977</td>\n      <td>0.273592</td>\n    </tr>\n    <tr>\n      <th>4</th>\n      <td>-1.039876</td>\n      <td>-0.203057</td>\n      <td>0.691247</td>\n      <td>0.958202</td>\n    </tr>\n    <tr>\n      <th>5</th>\n      <td>-1.146534</td>\n      <td>-0.252351</td>\n      <td>-1.035583</td>\n      <td>0.459315</td>\n    </tr>\n  </tbody>\n</table>\n</div>",
                        "text/plain": "          0         1         2         3\n0  0.038132  0.902516 -0.987694 -1.912738\n1  1.483074  0.929162 -2.026544 -0.922430\n2  0.366751 -0.494292  0.183760  0.444305\n3 -0.777906 -0.277398 -0.268977  0.273592\n4 -1.039876 -0.203057  0.691247  0.958202\n5 -1.146534 -0.252351 -1.035583  0.459315"
                    },
                    "execution_count": 8,
                    "metadata": {},
                    "output_type": "execute_result"
                }
            ],
            "source": "#first run this cell to create the dataframe df8\ndf8 = pd.DataFrame(np.random.randn(6,4))\ndf8"
        },
        {
            "cell_type": "markdown",
            "metadata": {
                "colab_type": "text",
                "id": "jN8IqnIFKdnQ"
            },
            "source": "### Calculate the Mean:"
        },
        {
            "cell_type": "code",
            "execution_count": 9,
            "metadata": {
                "colab": {},
                "colab_type": "code",
                "id": "m9w25pqIKdnQ"
            },
            "outputs": [
                {
                    "data": {
                        "text/plain": "0   -0.179393\n1    0.100763\n2   -0.573965\n3   -0.116626\ndtype: float64"
                    },
                    "execution_count": 9,
                    "metadata": {},
                    "output_type": "execute_result"
                }
            ],
            "source": "df8.mean()"
        },
        {
            "cell_type": "markdown",
            "metadata": {
                "colab_type": "text",
                "id": "0qDYbVY5KdnU"
            },
            "source": "## <center>\ud83c\udfc6 Challenge\n    \nCalculate the mean of df9"
        },
        {
            "cell_type": "code",
            "execution_count": 10,
            "metadata": {
                "colab": {},
                "colab_type": "code",
                "id": "GVYUWElgKdnU"
            },
            "outputs": [
                {
                    "data": {
                        "text/html": "<div>\n<style scoped>\n    .dataframe tbody tr th:only-of-type {\n        vertical-align: middle;\n    }\n\n    .dataframe tbody tr th {\n        vertical-align: top;\n    }\n\n    .dataframe thead th {\n        text-align: right;\n    }\n</style>\n<table border=\"1\" class=\"dataframe\">\n  <thead>\n    <tr style=\"text-align: right;\">\n      <th></th>\n      <th>0</th>\n      <th>1</th>\n      <th>2</th>\n      <th>3</th>\n    </tr>\n  </thead>\n  <tbody>\n    <tr>\n      <th>0</th>\n      <td>-2.476591</td>\n      <td>-1.564461</td>\n      <td>-0.622562</td>\n      <td>0.739111</td>\n    </tr>\n    <tr>\n      <th>1</th>\n      <td>-0.963360</td>\n      <td>-0.138901</td>\n      <td>1.238439</td>\n      <td>1.781954</td>\n    </tr>\n    <tr>\n      <th>2</th>\n      <td>1.041035</td>\n      <td>1.190877</td>\n      <td>1.356018</td>\n      <td>0.659898</td>\n    </tr>\n  </tbody>\n</table>\n</div>",
                        "text/plain": "          0         1         2         3\n0 -2.476591 -1.564461 -0.622562  0.739111\n1 -0.963360 -0.138901  1.238439  1.781954\n2  1.041035  1.190877  1.356018  0.659898"
                    },
                    "execution_count": 10,
                    "metadata": {},
                    "output_type": "execute_result"
                }
            ],
            "source": "#first run this cell to create df9\ndf9 = pd.DataFrame(np.random.randn(3,4))\ndf9"
        },
        {
            "cell_type": "code",
            "execution_count": 11,
            "metadata": {
                "colab": {},
                "colab_type": "code",
                "id": "ec14cNcXKdnY"
            },
            "outputs": [
                {
                    "data": {
                        "text/plain": "0   -0.799638\n1   -0.170828\n2    0.657298\n3    1.060321\ndtype: float64"
                    },
                    "execution_count": 11,
                    "metadata": {},
                    "output_type": "execute_result"
                }
            ],
            "source": "df9.mean()"
        },
        {
            "cell_type": "markdown",
            "metadata": {
                "colab_type": "text",
                "id": "_rYXEpNYKdne"
            },
            "source": "### Calculate the Cumulative Sum:"
        },
        {
            "cell_type": "code",
            "execution_count": 12,
            "metadata": {
                "colab": {},
                "colab_type": "code",
                "id": "R9U6KznGKdne"
            },
            "outputs": [
                {
                    "data": {
                        "text/html": "<div>\n<style scoped>\n    .dataframe tbody tr th:only-of-type {\n        vertical-align: middle;\n    }\n\n    .dataframe tbody tr th {\n        vertical-align: top;\n    }\n\n    .dataframe thead th {\n        text-align: right;\n    }\n</style>\n<table border=\"1\" class=\"dataframe\">\n  <thead>\n    <tr style=\"text-align: right;\">\n      <th></th>\n      <th>0</th>\n      <th>1</th>\n      <th>2</th>\n      <th>3</th>\n    </tr>\n  </thead>\n  <tbody>\n    <tr>\n      <th>0</th>\n      <td>0.038132</td>\n      <td>0.902516</td>\n      <td>-0.987694</td>\n      <td>-1.912738</td>\n    </tr>\n    <tr>\n      <th>1</th>\n      <td>1.521206</td>\n      <td>1.831678</td>\n      <td>-3.014238</td>\n      <td>-2.835168</td>\n    </tr>\n    <tr>\n      <th>2</th>\n      <td>1.887957</td>\n      <td>1.337386</td>\n      <td>-2.830478</td>\n      <td>-2.390863</td>\n    </tr>\n    <tr>\n      <th>3</th>\n      <td>1.110051</td>\n      <td>1.059988</td>\n      <td>-3.099455</td>\n      <td>-2.117270</td>\n    </tr>\n    <tr>\n      <th>4</th>\n      <td>0.070176</td>\n      <td>0.856930</td>\n      <td>-2.408208</td>\n      <td>-1.159068</td>\n    </tr>\n    <tr>\n      <th>5</th>\n      <td>-1.076358</td>\n      <td>0.604580</td>\n      <td>-3.443792</td>\n      <td>-0.699753</td>\n    </tr>\n  </tbody>\n</table>\n</div>",
                        "text/plain": "          0         1         2         3\n0  0.038132  0.902516 -0.987694 -1.912738\n1  1.521206  1.831678 -3.014238 -2.835168\n2  1.887957  1.337386 -2.830478 -2.390863\n3  1.110051  1.059988 -3.099455 -2.117270\n4  0.070176  0.856930 -2.408208 -1.159068\n5 -1.076358  0.604580 -3.443792 -0.699753"
                    },
                    "execution_count": 12,
                    "metadata": {},
                    "output_type": "execute_result"
                }
            ],
            "source": "df8.apply(np.cumsum)"
        },
        {
            "cell_type": "markdown",
            "metadata": {
                "colab_type": "text",
                "id": "b_9vijDuKdni"
            },
            "source": "## <center>\ud83c\udfc6 Challenge\n    \nCalculate the cumulative sum of df9"
        },
        {
            "cell_type": "code",
            "execution_count": 13,
            "metadata": {
                "colab": {},
                "colab_type": "code",
                "id": "iJtQ-KA7Kdnj"
            },
            "outputs": [
                {
                    "data": {
                        "text/html": "<div>\n<style scoped>\n    .dataframe tbody tr th:only-of-type {\n        vertical-align: middle;\n    }\n\n    .dataframe tbody tr th {\n        vertical-align: top;\n    }\n\n    .dataframe thead th {\n        text-align: right;\n    }\n</style>\n<table border=\"1\" class=\"dataframe\">\n  <thead>\n    <tr style=\"text-align: right;\">\n      <th></th>\n      <th>0</th>\n      <th>1</th>\n      <th>2</th>\n      <th>3</th>\n    </tr>\n  </thead>\n  <tbody>\n    <tr>\n      <th>0</th>\n      <td>-2.476591</td>\n      <td>-1.564461</td>\n      <td>-0.622562</td>\n      <td>0.739111</td>\n    </tr>\n    <tr>\n      <th>1</th>\n      <td>-3.439950</td>\n      <td>-1.703362</td>\n      <td>0.615877</td>\n      <td>2.521065</td>\n    </tr>\n    <tr>\n      <th>2</th>\n      <td>-2.398915</td>\n      <td>-0.512485</td>\n      <td>1.971895</td>\n      <td>3.180963</td>\n    </tr>\n  </tbody>\n</table>\n</div>",
                        "text/plain": "          0         1         2         3\n0 -2.476591 -1.564461 -0.622562  0.739111\n1 -3.439950 -1.703362  0.615877  2.521065\n2 -2.398915 -0.512485  1.971895  3.180963"
                    },
                    "execution_count": 13,
                    "metadata": {},
                    "output_type": "execute_result"
                }
            ],
            "source": "df9.apply(np.cumsum)"
        },
        {
            "cell_type": "markdown",
            "metadata": {
                "colab_type": "text",
                "id": "fw0DQQRJKdnn"
            },
            "source": "### Find the Maximum Value:"
        },
        {
            "cell_type": "code",
            "execution_count": 14,
            "metadata": {
                "colab": {},
                "colab_type": "code",
                "id": "zgSyqD3lKdno"
            },
            "outputs": [
                {
                    "data": {
                        "text/plain": "0    1.483074\n1    0.929162\n2    0.691247\n3    0.958202\ndtype: float64"
                    },
                    "execution_count": 14,
                    "metadata": {},
                    "output_type": "execute_result"
                }
            ],
            "source": "df8.max()"
        },
        {
            "cell_type": "markdown",
            "metadata": {
                "colab_type": "text",
                "id": "oO0jaTlKKdns"
            },
            "source": "## <center>\ud83c\udfc6 Challenge\n\nFind the maximum value of df9"
        },
        {
            "cell_type": "code",
            "execution_count": 15,
            "metadata": {
                "colab": {},
                "colab_type": "code",
                "id": "_tk9IvRoKdns"
            },
            "outputs": [
                {
                    "data": {
                        "text/plain": "0    1.041035\n1    1.190877\n2    1.356018\n3    1.781954\ndtype: float64"
                    },
                    "execution_count": 15,
                    "metadata": {},
                    "output_type": "execute_result"
                }
            ],
            "source": "df9.max()"
        },
        {
            "cell_type": "markdown",
            "metadata": {
                "colab_type": "text",
                "id": "KiQuHnRiKdnw"
            },
            "source": "### Find the Minimum Value:"
        },
        {
            "cell_type": "code",
            "execution_count": 16,
            "metadata": {
                "colab": {},
                "colab_type": "code",
                "id": "oj64lvwKKdnx"
            },
            "outputs": [
                {
                    "data": {
                        "text/plain": "0   -1.146534\n1   -0.494292\n2   -2.026544\n3   -1.912738\ndtype: float64"
                    },
                    "execution_count": 16,
                    "metadata": {},
                    "output_type": "execute_result"
                }
            ],
            "source": "df8.min()"
        },
        {
            "cell_type": "markdown",
            "metadata": {
                "colab_type": "text",
                "id": "f5rFdhtuKdn2"
            },
            "source": "## <center>\ud83c\udfc6 Challenge\n\nFind the minimum value of df9"
        },
        {
            "cell_type": "code",
            "execution_count": 17,
            "metadata": {
                "colab": {},
                "colab_type": "code",
                "id": "IP_VMNRMKdn2"
            },
            "outputs": [
                {
                    "data": {
                        "text/plain": "0   -2.476591\n1   -1.564461\n2   -0.622562\n3    0.659898\ndtype: float64"
                    },
                    "execution_count": 17,
                    "metadata": {},
                    "output_type": "execute_result"
                }
            ],
            "source": "df9.min()"
        },
        {
            "cell_type": "markdown",
            "metadata": {
                "colab_type": "text",
                "id": "AmoK6uvfKdoD"
            },
            "source": "## <center>String Manipulation"
        },
        {
            "cell_type": "markdown",
            "metadata": {
                "colab_type": "text",
                "id": "PcpGu3l9KdoE"
            },
            "source": "We will work with the series s7 for this section."
        },
        {
            "cell_type": "code",
            "execution_count": 18,
            "metadata": {
                "colab": {},
                "colab_type": "code",
                "id": "87p9smW1KdoH"
            },
            "outputs": [
                {
                    "data": {
                        "text/plain": "0               animal\n1                 bird\n2     Pandas Library  \ndtype: object"
                    },
                    "execution_count": 18,
                    "metadata": {},
                    "output_type": "execute_result"
                }
            ],
            "source": "#first run this cell to create series s7\ns7 = np.array(['animal','bird',' Pandas Library  '] )\ns7= pd.Series(s7)\ns7"
        },
        {
            "cell_type": "markdown",
            "metadata": {
                "colab_type": "text",
                "id": "sXWxAHHSKdoK"
            },
            "source": "### Convert to Lower Case"
        },
        {
            "cell_type": "code",
            "execution_count": 19,
            "metadata": {
                "colab": {},
                "colab_type": "code",
                "id": "RfLs4tqYKdoL"
            },
            "outputs": [
                {
                    "data": {
                        "text/plain": "0               animal\n1                 bird\n2     pandas library  \ndtype: object"
                    },
                    "execution_count": 19,
                    "metadata": {},
                    "output_type": "execute_result"
                }
            ],
            "source": "s7.str.lower()"
        },
        {
            "cell_type": "markdown",
            "metadata": {
                "colab_type": "text",
                "id": "4UiBFht5KdoO"
            },
            "source": "## <center>\ud83c\udfc6 Challenge\n\nConvert the strings in s8 to lower case."
        },
        {
            "cell_type": "code",
            "execution_count": 20,
            "metadata": {
                "colab": {},
                "colab_type": "code",
                "id": "cdW2k0hsYO8v"
            },
            "outputs": [
                {
                    "data": {
                        "text/plain": "0                      cat\n1                      dog\n2     Python Programming  \ndtype: object"
                    },
                    "execution_count": 20,
                    "metadata": {},
                    "output_type": "execute_result"
                }
            ],
            "source": "#first run this cell to create series s8\ns8 = np.array(['cat','dog',' Python Programming  '] )\ns8= pd.Series(s8)\ns8"
        },
        {
            "cell_type": "code",
            "execution_count": 21,
            "metadata": {
                "colab": {},
                "colab_type": "code",
                "id": "7XPPG1D1KdoP"
            },
            "outputs": [
                {
                    "data": {
                        "text/plain": "0                      cat\n1                      dog\n2     python programming  \ndtype: object"
                    },
                    "execution_count": 21,
                    "metadata": {},
                    "output_type": "execute_result"
                }
            ],
            "source": "s8.str.lower()"
        },
        {
            "cell_type": "markdown",
            "metadata": {
                "colab_type": "text",
                "id": "lUWneFcJKdoZ"
            },
            "source": "---------------"
        },
        {
            "cell_type": "markdown",
            "metadata": {
                "colab_type": "text",
                "id": "Are8Zvx6Kdob"
            },
            "source": "### Convert to Upper Case"
        },
        {
            "cell_type": "code",
            "execution_count": 22,
            "metadata": {
                "colab": {},
                "colab_type": "code",
                "id": "MX5fwebiKdob"
            },
            "outputs": [
                {
                    "data": {
                        "text/plain": "0               ANIMAL\n1                 BIRD\n2     PANDAS LIBRARY  \ndtype: object"
                    },
                    "execution_count": 22,
                    "metadata": {},
                    "output_type": "execute_result"
                }
            ],
            "source": "s7.str.upper()"
        },
        {
            "cell_type": "markdown",
            "metadata": {
                "colab_type": "text",
                "id": "wgYhsRWPKdoe"
            },
            "source": "## <center>\ud83c\udfc6 Challenge\n\nConvert the strings in s8 to upper case."
        },
        {
            "cell_type": "code",
            "execution_count": 23,
            "metadata": {
                "colab": {},
                "colab_type": "code",
                "id": "37--BEZoKdof"
            },
            "outputs": [
                {
                    "data": {
                        "text/plain": "0                      CAT\n1                      DOG\n2     PYTHON PROGRAMMING  \ndtype: object"
                    },
                    "execution_count": 23,
                    "metadata": {},
                    "output_type": "execute_result"
                }
            ],
            "source": "s8.str.upper()"
        },
        {
            "cell_type": "markdown",
            "metadata": {
                "colab_type": "text",
                "id": "puSkl35fKdoh"
            },
            "source": "### Swap Capitalization"
        },
        {
            "cell_type": "code",
            "execution_count": 24,
            "metadata": {
                "colab": {},
                "colab_type": "code",
                "id": "kyd4YBoRKdoi"
            },
            "outputs": [
                {
                    "data": {
                        "text/plain": "0               ANIMAL\n1                 BIRD\n2     pANDAS lIBRARY  \ndtype: object"
                    },
                    "execution_count": 24,
                    "metadata": {},
                    "output_type": "execute_result"
                }
            ],
            "source": "s7.str.swapcase()"
        },
        {
            "cell_type": "markdown",
            "metadata": {
                "colab_type": "text",
                "id": "DDhJZURPKdok"
            },
            "source": "## <center>\ud83c\udfc6 Challenge\n\nSwap the capitalization of the strings in s8."
        },
        {
            "cell_type": "code",
            "execution_count": 25,
            "metadata": {
                "colab": {},
                "colab_type": "code",
                "id": "n9_siA8rKdol"
            },
            "outputs": [
                {
                    "data": {
                        "text/plain": "0                      CAT\n1                      DOG\n2     pYTHON pROGRAMMING  \ndtype: object"
                    },
                    "execution_count": 25,
                    "metadata": {},
                    "output_type": "execute_result"
                }
            ],
            "source": "s8.str.swapcase()"
        },
        {
            "cell_type": "markdown",
            "metadata": {
                "colab_type": "text",
                "id": "2UrRMXFvKdop"
            },
            "source": "### Find Length of String"
        },
        {
            "cell_type": "code",
            "execution_count": 26,
            "metadata": {
                "colab": {},
                "colab_type": "code",
                "id": "WszLyCdvKdop"
            },
            "outputs": [
                {
                    "data": {
                        "text/plain": "0     6\n1     4\n2    17\ndtype: int64"
                    },
                    "execution_count": 26,
                    "metadata": {},
                    "output_type": "execute_result"
                }
            ],
            "source": "s7.str.len()"
        },
        {
            "cell_type": "markdown",
            "metadata": {
                "colab_type": "text",
                "id": "u1TkmYy9Kdot"
            },
            "source": "## <center>\ud83c\udfc6 Challenge\n\nFind the length of the strings in s8."
        },
        {
            "cell_type": "code",
            "execution_count": 27,
            "metadata": {
                "colab": {},
                "colab_type": "code",
                "id": "ko-Xm2FNKdot"
            },
            "outputs": [
                {
                    "data": {
                        "text/plain": "0     3\n1     3\n2    21\ndtype: int64"
                    },
                    "execution_count": 27,
                    "metadata": {},
                    "output_type": "execute_result"
                }
            ],
            "source": "s8.str.len()"
        },
        {
            "cell_type": "markdown",
            "metadata": {
                "colab_type": "text",
                "id": "gerhV7EdKdow"
            },
            "source": "-------------"
        },
        {
            "cell_type": "markdown",
            "metadata": {
                "colab_type": "text",
                "id": "VwSh2vTUKdow"
            },
            "source": "### Split String"
        },
        {
            "cell_type": "code",
            "execution_count": 28,
            "metadata": {
                "colab": {},
                "colab_type": "code",
                "id": "1jm-W4v5Kdox"
            },
            "outputs": [
                {
                    "data": {
                        "text/plain": "0             [animal]\n1               [bird]\n2    [Pandas, Library]\ndtype: object"
                    },
                    "execution_count": 28,
                    "metadata": {},
                    "output_type": "execute_result"
                }
            ],
            "source": "s7.str.split()"
        },
        {
            "cell_type": "markdown",
            "metadata": {
                "colab_type": "text",
                "id": "Jte4lCpMKdoy"
            },
            "source": "## <center>\ud83c\udfc6 Challenge\n\nFind the length of the strings in s8."
        },
        {
            "cell_type": "code",
            "execution_count": null,
            "metadata": {
                "colab": {},
                "colab_type": "code",
                "id": "hf53ABmTKdoy"
            },
            "outputs": [],
            "source": "#first run this cell to create the series s8\ns8 = np.array(['cat','dog',' Python Programming  '] )\ns8= pd.Series(s8)\ns8"
        },
        {
            "cell_type": "code",
            "execution_count": 29,
            "metadata": {
                "colab": {},
                "colab_type": "code",
                "id": "8XohGUPUKdo0"
            },
            "outputs": [
                {
                    "data": {
                        "text/plain": "0                    [cat]\n1                    [dog]\n2    [Python, Programming]\ndtype: object"
                    },
                    "execution_count": 29,
                    "metadata": {},
                    "output_type": "execute_result"
                }
            ],
            "source": "s8.str.split()"
        },
        {
            "cell_type": "markdown",
            "metadata": {
                "colab_type": "text",
                "id": "uWIEeHQRKdo1"
            },
            "source": "### Detect Unique Values"
        },
        {
            "cell_type": "code",
            "execution_count": 30,
            "metadata": {
                "colab": {},
                "colab_type": "code",
                "id": "Q84Ypw9SKdo1"
            },
            "outputs": [
                {
                    "data": {
                        "text/plain": "array(['animal', 'bird', ' Pandas Library  '], dtype=object)"
                    },
                    "execution_count": 30,
                    "metadata": {},
                    "output_type": "execute_result"
                }
            ],
            "source": "s7.unique()"
        },
        {
            "cell_type": "markdown",
            "metadata": {
                "colab_type": "text",
                "id": "NjmgQuqYKdo3"
            },
            "source": "## <center>\ud83c\udfc6 Challenge\n\nDetect unique values in s8."
        },
        {
            "cell_type": "code",
            "execution_count": 31,
            "metadata": {
                "colab": {},
                "colab_type": "code",
                "id": "_YMFeHshKdo4"
            },
            "outputs": [
                {
                    "data": {
                        "text/plain": "array(['cat', 'dog', ' Python Programming  '], dtype=object)"
                    },
                    "execution_count": 31,
                    "metadata": {},
                    "output_type": "execute_result"
                }
            ],
            "source": "s8.unique()"
        },
        {
            "cell_type": "markdown",
            "metadata": {
                "colab_type": "text",
                "id": "jcj97YkjKdo5"
            },
            "source": "### Repeat String"
        },
        {
            "cell_type": "markdown",
            "metadata": {
                "colab_type": "text",
                "id": "Ez78XAVnKdo5"
            },
            "source": "We will work with the series s7 for this section."
        },
        {
            "cell_type": "code",
            "execution_count": 32,
            "metadata": {
                "colab": {},
                "colab_type": "code",
                "id": "3xyw_CgyKdo6"
            },
            "outputs": [
                {
                    "data": {
                        "text/plain": "0               animal\n1                 bird\n2     Pandas Library  \ndtype: object"
                    },
                    "execution_count": 32,
                    "metadata": {},
                    "output_type": "execute_result"
                }
            ],
            "source": "#first run this cell to create series s7\ns7 = np.array(['animal','bird',' Pandas Library  '] )\ns7= pd.Series(s7)\ns7"
        },
        {
            "cell_type": "code",
            "execution_count": 34,
            "metadata": {
                "colab": {},
                "colab_type": "code",
                "id": "1TSLCYyJKdo-"
            },
            "outputs": [
                {
                    "data": {
                        "text/plain": "0                          animalanimal\n1                          birdbirdbird\n2     Pandas Library   Pandas Library  \ndtype: object"
                    },
                    "execution_count": 34,
                    "metadata": {},
                    "output_type": "execute_result"
                }
            ],
            "source": "repeat_list=[2, 3, 2]\ns7.str.repeat(repeat_list)"
        },
        {
            "cell_type": "markdown",
            "metadata": {
                "colab_type": "text",
                "id": "pZZLkc1GKdpA"
            },
            "source": "## <center>\ud83c\udfc6 Challenge\n\nRepeat the values in s8 in the order [1,2,3]"
        },
        {
            "cell_type": "code",
            "execution_count": null,
            "metadata": {
                "colab": {},
                "colab_type": "code",
                "id": "esXF9hAdKdpB"
            },
            "outputs": [],
            "source": "## <center>\ud83c\udfc6 Challenge\n\nRepeat the values in s8 in the order [1,2,3]"
        },
        {
            "cell_type": "code",
            "execution_count": 35,
            "metadata": {
                "colab": {},
                "colab_type": "code",
                "id": "f_YvQJsEKdpO"
            },
            "outputs": [
                {
                    "data": {
                        "text/plain": "0                                                  cat\n1                                               dogdog\n2     Python Programming   Python Programming   Pyt...\ndtype: object"
                    },
                    "execution_count": 35,
                    "metadata": {},
                    "output_type": "execute_result"
                }
            ],
            "source": "repeat_list = [1, 2, 3]\ns8.str.repeat(repeat_list)"
        },
        {
            "cell_type": "code",
            "execution_count": null,
            "metadata": {},
            "outputs": [],
            "source": ""
        }
    ],
    "metadata": {
        "colab": {
            "name": "Workbook - Pandas Python Library for Beginners in Data Science.ipynb",
            "provenance": []
        },
        "kernelspec": {
            "display_name": "Python 3",
            "language": "python",
            "name": "python3"
        },
        "language_info": {
            "codemirror_mode": {
                "name": "ipython",
                "version": 3
            },
            "file_extension": ".py",
            "mimetype": "text/x-python",
            "name": "python",
            "nbconvert_exporter": "python",
            "pygments_lexer": "ipython3",
            "version": "3.8.5"
        }
    },
    "nbformat": 4,
    "nbformat_minor": 4
}